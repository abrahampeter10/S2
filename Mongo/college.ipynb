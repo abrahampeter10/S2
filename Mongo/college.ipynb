{
 "cells": [
  {
   "cell_type": "code",
   "execution_count": 3,
   "id": "70ee439a",
   "metadata": {},
   "outputs": [],
   "source": [
    "import pymongo"
   ]
  },
  {
   "cell_type": "code",
   "execution_count": 4,
   "id": "133cd169",
   "metadata": {},
   "outputs": [],
   "source": [
    "conn=pymongo.MongoClient(\"mongodb://localhost:27017/\")\n",
    "#Databse connection\n",
    "db=conn[\"college\"]\n",
    "#Table selection\n",
    "col=db[\"studlist\"]"
   ]
  },
  {
   "cell_type": "code",
   "execution_count": 6,
   "id": "09089191",
   "metadata": {},
   "outputs": [
    {
     "data": {
      "text/plain": [
       "InsertOneResult(2, acknowledged=True)"
      ]
     },
     "execution_count": 6,
     "metadata": {},
     "output_type": "execute_result"
    }
   ],
   "source": [
    "col.insert_one({\"_id\":2, \"name\" : \"Abraham\", \"course\":\"MCA\"})"
   ]
  },
  {
   "cell_type": "code",
   "execution_count": 19,
   "id": "2c03281e",
   "metadata": {},
   "outputs": [],
   "source": [
    "students=[{\"_id\":10, \"name\" : \"Akhil\", \"course\":\"MCA\"},\n",
    "           {\"_id\":9, \"name\" : \"Aishu\", \"course\":\"MCA\"},\n",
    "           {\"_id\":8, \"name\" : \"Afraq\", \"course\":\"MCA\"},\n",
    "           {\"_id\":6, \"name\" : \"Abin\", \"course\":\"MCA\"}]\n"
   ]
  },
  {
   "cell_type": "code",
   "execution_count": 20,
   "id": "7873f49b",
   "metadata": {},
   "outputs": [],
   "source": [
    "for var in students:\n",
    "    if col.find_one({\"_id\": var[\"_id\"]}) is None:\n",
    "        col.insert_one(var)"
   ]
  },
  {
   "cell_type": "code",
   "execution_count": 23,
   "id": "8408790e",
   "metadata": {},
   "outputs": [
    {
     "data": {
      "text/plain": [
       "DeleteResult({'n': 6, 'ok': 1.0}, acknowledged=True)"
      ]
     },
     "execution_count": 23,
     "metadata": {},
     "output_type": "execute_result"
    }
   ],
   "source": [
    "col.delete_many({})"
   ]
  },
  {
   "cell_type": "code",
   "execution_count": 24,
   "id": "23230bd5",
   "metadata": {},
   "outputs": [
    {
     "data": {
      "text/plain": [
       "InsertManyResult([1, 2, 3, 4, 5, 6, 7, 8, 9, 10, 11, 12, 13, 14, 15, 16, 17, 18, 19, 20, 21, 22, 23, 24, 25], acknowledged=True)"
      ]
     },
     "execution_count": 24,
     "metadata": {},
     "output_type": "execute_result"
    }
   ],
   "source": [
    "import json\n",
    "with open(\"students.json\") as file:\n",
    " data=json.load(file)\n",
    "db.studlist.insert_many(data)"
   ]
  },
  {
   "cell_type": "code",
   "execution_count": null,
   "id": "778c77dd",
   "metadata": {},
   "outputs": [
    {
     "ename": "SyntaxError",
     "evalue": "unmatched ')' (4118807049.py, line 3)",
     "output_type": "error",
     "traceback": [
      "  \u001b[36mCell\u001b[39m\u001b[36m \u001b[39m\u001b[32mIn[59]\u001b[39m\u001b[32m, line 3\u001b[39m\n\u001b[31m    \u001b[39m\u001b[31mprint(\"\\nName: \"i['name']['fname']+\" \"+i['name']['lname'])+ \" \\nMark: \" ,i['mark'], \"\\nGrade: \",i['grade'])\u001b[39m\n                                                                                                              ^\n\u001b[31mSyntaxError\u001b[39m\u001b[31m:\u001b[39m unmatched ')'\n"
     ]
    }
   ],
   "source": [
    "x=db.studlist.find({\"course\":\"MCA\", \"gender\":\"female\"})\n",
    "for i in x:\n",
    "    print(\"\\nName: \"i['name']['fname']+\" \"+i['name']['lname'])+ \" \\nMark: \" ,i['mark'], \"\\nGrade: \",i['grade'])\n"
   ]
  },
  {
   "cell_type": "code",
   "execution_count": 50,
   "id": "7a19f268",
   "metadata": {},
   "outputs": [
    {
     "name": "stdout",
     "output_type": "stream",
     "text": [
      "\n",
      " Name:  Amritha \n",
      " Mark:  99\n"
     ]
    }
   ],
   "source": [
    "x=db.studlist.find({\"course\":\"MCA\"}).sort(\"mark\",-1).limit(1)\n",
    "for i in x:\n",
    "    print(\"\\n Name: \" ,i['name']['fname'], \"\\n Mark: \", i['mark'])"
   ]
  },
  {
   "cell_type": "code",
   "execution_count": 66,
   "id": "05fa35ec",
   "metadata": {},
   "outputs": [
    {
     "name": "stdout",
     "output_type": "stream",
     "text": [
      "\n",
      " Name: Vimal Vinayan \n",
      " Mark:  90\n",
      "\n",
      " Name: Vimal Bose \n",
      " Mark:  90\n",
      "\n",
      " Name: Arun S \n",
      " Mark:  91\n"
     ]
    }
   ],
   "source": [
    "x=db.studlist.find({\"gender\":\"male\",\"grade\":\"A+\"})\n",
    "for i in x:\n",
    "    print(\"\\n Name: \" +i['name']['fname']+\" \"+i['name']['lname'], \"\\n Mark: \", i['mark'])"
   ]
  },
  {
   "cell_type": "code",
   "execution_count": 67,
   "id": "9a40714c",
   "metadata": {},
   "outputs": [
    {
     "name": "stdout",
     "output_type": "stream",
     "text": [
      "\n",
      " Name: Kavya Mohan \n",
      " Mark:  95\n",
      "\n",
      " Name: Vimal Vinayan \n",
      " Mark:  90\n",
      "\n",
      " Name: Yadu Kannan \n",
      " Mark:  85\n"
     ]
    }
   ],
   "source": [
    "# Display the names of top three students in Mechanical department.\n",
    "\n",
    "\n",
    "x=db.studlist.find({\"course\":\"Mechanical\"}).sort(\"mark\",-1).limit(3)\n",
    "for i in x:\n",
    "        print(\"\\n Name: \" +i['name']['fname']+\" \"+i['name']['lname'], \"\\n Mark: \", i['mark'])\n"
   ]
  },
  {
   "cell_type": "code",
   "execution_count": null,
   "id": "d0b23b49",
   "metadata": {},
   "outputs": [
    {
     "name": "stdout",
     "output_type": "stream",
     "text": [
      "\n",
      " Name: Kavya Mohan \n",
      " Mark:  95\n",
      "\n",
      " Name: Amritha S \n",
      " Mark:  99\n"
     ]
    }
   ],
   "source": [
    "#Display the details of female students who achieved a mark more than 90.\n",
    "\n",
    "x=db.studlist.find({\"gender\":\"female\",\"mark\":{\"$gt\":90}})\n",
    "for i in x:\n",
    "        print(\"\\n Name: \" +i['name']['fname']+\" \"+i['name']['lname'], \"\\n Mark: \", i['mark'])"
   ]
  },
  {
   "cell_type": "code",
   "execution_count": 73,
   "id": "14221033",
   "metadata": {},
   "outputs": [
    {
     "name": "stdout",
     "output_type": "stream",
     "text": [
      "\n",
      " Name: Vidhya S \n",
      " Mark:  85\n",
      "\n",
      " Name: Yadu Kannan \n",
      " Mark:  85\n",
      "\n",
      " Name: Renuka Vijayan \n",
      " Mark:  82\n",
      "\n",
      " Name: Remya V \n",
      " Mark:  85\n"
     ]
    }
   ],
   "source": [
    "#Display the details of students who secured mark, more than 80 but less than 90.\n",
    "\n",
    "x=db.studlist.find({\"mark\":{\"$gt\":80,\"$lt\":90}})\n",
    "for i in x:\n",
    "        print(\"\\n Name: \" +i['name']['fname']+\" \"+i['name']['lname'], \"\\n Mark: \", i['mark'])\n"
   ]
  },
  {
   "cell_type": "markdown",
   "id": "1a9d3db3",
   "metadata": {},
   "source": [
    "# Regex : {\"field_name\": {\"$regex\": \"pattern\"}}"
   ]
  },
  {
   "cell_type": "code",
   "execution_count": 84,
   "id": "6664a360",
   "metadata": {},
   "outputs": [
    {
     "name": "stdout",
     "output_type": "stream",
     "text": [
      "\n",
      " Name: Varun Nair \n",
      " Mark:  70\n",
      "\n",
      " Name: Vidhya S \n",
      " Mark:  85\n",
      "\n",
      " Name: Vivek Bose \n",
      " Mark:  60\n",
      "\n",
      " Name: Vimal Vinayan \n",
      " Mark:  90\n",
      "\n",
      " Name: Vimal Bose \n",
      " Mark:  90\n",
      "\n",
      " Name: Vinod Paniker \n",
      " Mark:  70\n",
      "\n",
      " Name: Vidhya Sugunan \n",
      " Mark:  79\n"
     ]
    }
   ],
   "source": [
    "# Display the details of students whose name starts with ‘V’\n",
    "\n",
    "x=db.studlist.find({\"name.fname\":{\"$regex\":\"^V\"}})\n",
    "for i in x:\n",
    "        print(\"\\n Name: \" +i['name']['fname']+\" \"+i['name']['lname'], \"\\n Mark: \", i['mark'])\n",
    "\n"
   ]
  },
  {
   "cell_type": "code",
   "execution_count": null,
   "id": "833d60c4",
   "metadata": {},
   "outputs": [
    {
     "name": "stdout",
     "output_type": "stream",
     "text": [
      "\n",
      " Name: Athira Krishnan \n",
      " Mark:  Kollam\n",
      "\n",
      " Name: Varun Nair \n",
      " Mark:  Thiruvananthapuram\n",
      "\n",
      " Name: Karthik MS \n",
      " Mark:  Thiruvananthapuram\n",
      "\n",
      " Name: Yadu Kannan \n",
      " Mark:  Kollam\n",
      "\n",
      " Name: Kavya Mohan \n",
      " Mark:  Kollam\n",
      "\n",
      " Name: Vimal Vinayan \n",
      " Mark:  Kollam\n",
      "\n",
      " Name: Renuka Vijayan \n",
      " Mark:  Thiruvananthapuram\n",
      "\n",
      " Name: Remya V \n",
      " Mark:  Thiruvananthapuram\n",
      "\n",
      " Name: Remya Sugunan \n",
      " Mark:  Thiruvananthapuram\n",
      "\n",
      " Name: Jabin S \n",
      " Mark:  Kollam\n",
      "\n",
      " Name: Vidhya Sugunan \n",
      " Mark:  Thiruvananthapuram\n",
      "\n",
      " Name: Arya Satheesh \n",
      " Mark:  Kollam\n",
      "\n",
      " Name: Soorya S \n",
      " Mark:  Thiruvananthapuram\n",
      "\n",
      " Name: Soorya P \n",
      " Mark:  Thiruvananthapuram\n",
      "\n",
      " Name: Sayooj Kiran \n",
      " Mark:  Thiruvananthapuram\n"
     ]
    }
   ],
   "source": [
    "#Female students from Kollam or Thiruvananthapuram\n",
    "\n",
    "x=db.studlist.find({\"address.city\":{\"$in\":[\"Kollam\",\"Thiruvananthapuram\"]}})\n",
    "for i in x:\n",
    "        print(\"\\n Name: \" +i['name']['fname']+\" \"+i['name']['lname'], \"\\n Mark: \", i['address']['city'])"
   ]
  },
  {
   "cell_type": "code",
   "execution_count": 7,
   "id": "0edeb890",
   "metadata": {},
   "outputs": [
    {
     "name": "stdout",
     "output_type": "stream",
     "text": [
      "\n",
      " Name: Arya S \n",
      " Mark:  Varkala\n",
      "\n",
      " Name: Vidhya S \n",
      " Mark:  Kadakkavoor\n",
      "\n",
      " Name: Vivek Bose \n",
      " Mark:  Ernakulam\n",
      "\n",
      " Name: Divya Vijayan \n",
      " Mark:  Varkala\n",
      "\n",
      " Name: Vimal Bose \n",
      " Mark:  Ernakulam\n",
      "\n",
      " Name: Vinod Paniker \n",
      " Mark:  Ernakulam\n",
      "\n",
      " Name: Amritha S \n",
      " Mark:  Varkala\n",
      "\n",
      " Name: Arun S \n",
      " Mark:  Attingal\n",
      "\n",
      " Name: Abhilash S \n",
      " Mark:  Attingal\n",
      "\n",
      " Name: Sree Raj \n",
      " Mark:  Varkala\n"
     ]
    }
   ],
   "source": [
    "# students from neither Kollam nor Thiruvananthapuram\n",
    "\n",
    "x=db.studlist.find({\"address.city\":{\"$nin\":[\"Kollam\",\"Thiruvananthapuram\"]}})\n",
    "for i in x:\n",
    "        print(\"\\n Name: \" +i['name']['fname']+\" \"+i['name']['lname'], \"\\n Mark: \", i['address']['city'])"
   ]
  },
  {
   "cell_type": "code",
   "execution_count": 5,
   "id": "02d75ee7",
   "metadata": {},
   "outputs": [
    {
     "name": "stdout",
     "output_type": "stream",
     "text": [
      "{'_id': 'MCA', 'Total Mark of Subject': 15}\n",
      "{'_id': 'Civil', 'Total Mark of Subject': 5}\n",
      "{'_id': 'Computer Science', 'Total Mark of Subject': 1}\n",
      "{'_id': 'Mechanical', 'Total Mark of Subject': 4}\n"
     ]
    }
   ],
   "source": [
    "#Total marks of all subjects\n",
    "\n",
    "x=db.studlist.aggregate([\n",
    "    {\"$group\": {\"_id\": \"$course\", \"Total Mark of Subject\": {\"$sum\": 1}}}\n",
    "])\n",
    "for i in x:\n",
    "    print(i)"
   ]
  },
  {
   "cell_type": "code",
   "execution_count": 103,
   "id": "d7beb8ab",
   "metadata": {},
   "outputs": [
    {
     "name": "stdout",
     "output_type": "stream",
     "text": [
      "{'_id': 'Computer Science', 'Average Mark of Each Course': 90.0}\n",
      "{'_id': 'Civil', 'Average Mark of Each Course': 78.6}\n",
      "{'_id': 'Mechanical', 'Average Mark of Each Course': 86.25}\n",
      "{'_id': 'MCA', 'Average Mark of Each Course': 77.4}\n"
     ]
    }
   ],
   "source": [
    "#Average marks of all subjects\n",
    "\n",
    "x=db.studlist.aggregate([\n",
    "        {\"$group\":{\"_id\": \"$course\", \"Average Mark of Each Course\"  :{\"$avg\" : \"$mark\"}}}]\n",
    ")\n",
    "for i in x:\n",
    "    print(i)"
   ]
  },
  {
   "cell_type": "code",
   "execution_count": 10,
   "id": "ab1522d2",
   "metadata": {},
   "outputs": [
    {
     "name": "stdout",
     "output_type": "stream",
     "text": [
      "{'_id': 'Mechanical', 'Minimum mark of each course': 75}\n",
      "{'_id': 'Civil', 'Minimum mark of each course': 70}\n",
      "{'_id': 'MCA', 'Minimum mark of each course': 60}\n"
     ]
    }
   ],
   "source": [
    "#Minimum marks of all subjects\n",
    "\n",
    "x=db.studlist.aggregate([\n",
    "    {\"$match\" :{\"gender\":\"male\"}},\n",
    "    {\"$group\" :{\"_id\": \"$course\", \"Minimum mark of each course\" : {\"$min\" :\"$mark\"}}}\n",
    "]\n",
    ")\n",
    "for i in x:\n",
    "    print(i)"
   ]
  },
  {
   "cell_type": "code",
   "execution_count": 117,
   "id": "9608c080",
   "metadata": {},
   "outputs": [
    {
     "name": "stdout",
     "output_type": "stream",
     "text": [
      "{'_id': 'Computer Science', 'Maximum mark': 90}\n",
      "{'_id': 'Civil', 'Maximum mark': 90}\n",
      "{'_id': 'Mechanical', 'Maximum mark': 95}\n",
      "{'_id': 'MCA', 'Maximum mark': 99}\n"
     ]
    }
   ],
   "source": [
    "#Maximum marks of all subjects\n",
    "\n",
    "x=db.studlist.aggregate([\n",
    "    {\"$match\" :{\"gender\" :\"female\"}},\n",
    "    {\"$group\" :{\"_id\" :\"$course\" , \"Maximum mark\" : {\"$max\" :\"$mark\"}}}\n",
    "])\n",
    "for i in x:\n",
    "    print(i)"
   ]
  },
  {
   "cell_type": "code",
   "execution_count": 112,
   "id": "5a363076",
   "metadata": {},
   "outputs": [
    {
     "name": "stdout",
     "output_type": "stream",
     "text": [
      "Ernakulam\n",
      "Ernakulam\n",
      "Ernakulam\n"
     ]
    }
   ],
   "source": [
    "x=db.studlist.find({\"address.city\":\"Ernakulam\"})\n",
    "for i in x:\n",
    "    print(i[\"address\"][\"city\"])"
   ]
  }
 ],
 "metadata": {
  "kernelspec": {
   "display_name": "Python 3",
   "language": "python",
   "name": "python3"
  },
  "language_info": {
   "codemirror_mode": {
    "name": "ipython",
    "version": 3
   },
   "file_extension": ".py",
   "mimetype": "text/x-python",
   "name": "python",
   "nbconvert_exporter": "python",
   "pygments_lexer": "ipython3",
   "version": "3.13.0"
  }
 },
 "nbformat": 4,
 "nbformat_minor": 5
}
